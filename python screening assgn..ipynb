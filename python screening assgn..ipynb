{
 "cells": [
  {
   "cell_type": "markdown",
   "id": "29a856a4",
   "metadata": {},
   "source": [
    "## Python Screening Assignment\n",
    "Create a function in python to read the text file and replace specific content of the file.\n",
    "\n",
    "      File name             =  example.txt         \n",
    "      Origin file content   =This is a placement assignment          \n",
    "      Replace string        =Placement should be replaced by screening\n",
    "      Replaced file content =This is a screening assignment"
   ]
  },
  {
   "cell_type": "code",
   "execution_count": 1,
   "id": "37039c37",
   "metadata": {},
   "outputs": [],
   "source": [
    "import pandas as pd \n",
    "import numpy as np\n"
   ]
  },
  {
   "cell_type": "code",
   "execution_count": 4,
   "id": "ab6b8e37",
   "metadata": {},
   "outputs": [
    {
     "data": {
      "text/html": [
       "<div>\n",
       "<style scoped>\n",
       "    .dataframe tbody tr th:only-of-type {\n",
       "        vertical-align: middle;\n",
       "    }\n",
       "\n",
       "    .dataframe tbody tr th {\n",
       "        vertical-align: top;\n",
       "    }\n",
       "\n",
       "    .dataframe thead th {\n",
       "        text-align: right;\n",
       "    }\n",
       "</style>\n",
       "<table border=\"1\" class=\"dataframe\">\n",
       "  <thead>\n",
       "    <tr style=\"text-align: right;\">\n",
       "      <th></th>\n",
       "      <th>this is placement assignment.</th>\n",
       "    </tr>\n",
       "  </thead>\n",
       "  <tbody>\n",
       "  </tbody>\n",
       "</table>\n",
       "</div>"
      ],
      "text/plain": [
       "Empty DataFrame\n",
       "Columns: [this is placement assignment.]\n",
       "Index: []"
      ]
     },
     "execution_count": 4,
     "metadata": {},
     "output_type": "execute_result"
    }
   ],
   "source": [
    "pd.read_table('example.txt')"
   ]
  },
  {
   "cell_type": "code",
   "execution_count": 2,
   "id": "2285cb56",
   "metadata": {},
   "outputs": [],
   "source": [
    "def text_replacement_text(file_name, old_text, new_text):\n",
    "    \n",
    "    try:        \n",
    "        file= open(file_name,'r')\n",
    "        content=file.read()\n",
    "        content=content.replace(old_text,new_text)\n",
    "        file=open(file_name,'w')\n",
    "        file.write(content)\n",
    "    except Exception as e :\n",
    "        raise Exception(\"file not found\")\n",
    "    finally:\n",
    "        file.close()"
   ]
  },
  {
   "cell_type": "code",
   "execution_count": 5,
   "id": "e8681741",
   "metadata": {},
   "outputs": [],
   "source": [
    "text_replacement_text('example.txt','placement','screening')"
   ]
  },
  {
   "cell_type": "code",
   "execution_count": 6,
   "id": "8049a000",
   "metadata": {},
   "outputs": [
    {
     "data": {
      "text/html": [
       "<div>\n",
       "<style scoped>\n",
       "    .dataframe tbody tr th:only-of-type {\n",
       "        vertical-align: middle;\n",
       "    }\n",
       "\n",
       "    .dataframe tbody tr th {\n",
       "        vertical-align: top;\n",
       "    }\n",
       "\n",
       "    .dataframe thead th {\n",
       "        text-align: right;\n",
       "    }\n",
       "</style>\n",
       "<table border=\"1\" class=\"dataframe\">\n",
       "  <thead>\n",
       "    <tr style=\"text-align: right;\">\n",
       "      <th></th>\n",
       "      <th>this is screening assignment.</th>\n",
       "    </tr>\n",
       "  </thead>\n",
       "  <tbody>\n",
       "  </tbody>\n",
       "</table>\n",
       "</div>"
      ],
      "text/plain": [
       "Empty DataFrame\n",
       "Columns: [this is screening assignment.]\n",
       "Index: []"
      ]
     },
     "execution_count": 6,
     "metadata": {},
     "output_type": "execute_result"
    }
   ],
   "source": [
    "pd.read_table(\"example.txt\")"
   ]
  },
  {
   "cell_type": "markdown",
   "id": "d654829e",
   "metadata": {},
   "source": [
    "## 2. Demonstrate use of abstract class, multiple inheritance and decorator in\n",
    "## python using examples."
   ]
  },
  {
   "cell_type": "markdown",
   "id": "e015b664",
   "metadata": {},
   "source": [
    "## Abstract class "
   ]
  },
  {
   "cell_type": "code",
   "execution_count": 7,
   "id": "70ccc195",
   "metadata": {},
   "outputs": [],
   "source": [
    "from abc import ABC,  abstractmethod, abstractproperty"
   ]
  },
  {
   "cell_type": "code",
   "execution_count": 8,
   "id": "2af4219a",
   "metadata": {},
   "outputs": [
    {
     "name": "stdout",
     "output_type": "stream",
     "text": [
      "MUMBAI INDIANS WON IPL 5 TIMES\n",
      "CHENNAI SUPER KING WON IPL 4 TIMES\n"
     ]
    }
   ],
   "source": [
    "class cricket(ABC):\n",
    "    @abstractmethod\n",
    "    def winning_time(self):\n",
    "        pass\n",
    "    \n",
    "class MI(cricket):\n",
    "    def winning_time(self):\n",
    "        print(\"MUMBAI INDIANS WON IPL 5 TIMES\")\n",
    "        \n",
    "class CSK(cricket):\n",
    "    def winning_time(self):\n",
    "        print(\"CHENNAI SUPER KING WON IPL 4 TIMES\")\n",
    "        \n",
    "Mumbai_indians=MI()\n",
    "Mumbai_indians.winning_time()\n",
    "\n",
    "Chennai_Superkings=CSK()\n",
    "Chennai_Superkings.winning_time()"
   ]
  },
  {
   "cell_type": "markdown",
   "id": "d710745e",
   "metadata": {},
   "source": [
    "## Multiple inheritence"
   ]
  },
  {
   "cell_type": "code",
   "execution_count": 10,
   "id": "efe10005",
   "metadata": {},
   "outputs": [
    {
     "name": "stdout",
     "output_type": "stream",
     "text": [
      "Gujrat Titans won the ipl 2022 by defeating lucknow gaints \n",
      "chennai super kings won the ipl 2021 by defeating kolkata knight riders \n",
      "Mumbai Indians won the ipl 2020 by defeating Delhi Capitals \n",
      "winning team got a price of 20CR \n"
     ]
    }
   ],
   "source": [
    "class winning_team_2022:\n",
    "    def ipl_2022(self):\n",
    "        print(\"Gujrat Titans won the ipl 2022 by defeating lucknow gaints \")\n",
    "        \n",
    "class winning_team_2021:\n",
    "    def ipl_2021(self):\n",
    "        print(\"chennai super kings won the ipl 2021 by defeating kolkata knight riders \")\n",
    "\n",
    "class winning_team_2020:\n",
    "    def ipl_2020(self):\n",
    "        print(\"Mumbai Indians won the ipl 2020 by defeating Delhi Capitals \")\n",
    "\n",
    "class IPL_winners(winning_team_2022,winning_team_2021,winning_team_2020):\n",
    "    def winning_price(self):\n",
    "        print(\"winning team got a price of 20CR \")\n",
    "        \n",
    "IPL=IPL_winners()\n",
    "\n",
    "IPL.ipl_2022()\n",
    "\n",
    "IPL.ipl_2021()\n",
    "\n",
    "IPL.ipl_2020()\n",
    "\n",
    "\n",
    "\n",
    "IPL.winning_price()"
   ]
  },
  {
   "cell_type": "markdown",
   "id": "932af002",
   "metadata": {},
   "source": [
    "## Decorator"
   ]
  },
  {
   "cell_type": "code",
   "execution_count": 18,
   "id": "f84fede2",
   "metadata": {},
   "outputs": [],
   "source": [
    "def icc_best_captain():\n",
    "    print(\"M.s. DHONI IS ICC BEST CAPTAIN\")"
   ]
  },
  {
   "cell_type": "code",
   "execution_count": 19,
   "id": "a0f62482",
   "metadata": {},
   "outputs": [
    {
     "name": "stdout",
     "output_type": "stream",
     "text": [
      "M.s. DHONI IS ICC BEST CAPTAIN\n"
     ]
    }
   ],
   "source": [
    "icc_best_captain()"
   ]
  },
  {
   "cell_type": "code",
   "execution_count": 20,
   "id": "aa27a6b2",
   "metadata": {},
   "outputs": [],
   "source": [
    "def IPL_best_captain(func):\n",
    "    def inner_function():\n",
    "        print(\"ROHIT SHARMA IS BEST CAPTAIN IN IPL\")\n",
    "        func()\n",
    "        \n",
    "    return inner_function\n",
    "    \n",
    "    "
   ]
  },
  {
   "cell_type": "code",
   "execution_count": 22,
   "id": "42be6ed5",
   "metadata": {},
   "outputs": [],
   "source": [
    "icc_best_captain=IPL_best_captain(icc_best_captain)"
   ]
  },
  {
   "cell_type": "code",
   "execution_count": 23,
   "id": "cf9d2c21",
   "metadata": {},
   "outputs": [
    {
     "name": "stdout",
     "output_type": "stream",
     "text": [
      "ROHIT SHARMA IS BEST CAPTAIN IN IPL\n",
      "M.s. DHONI IS ICC BEST CAPTAIN\n"
     ]
    }
   ],
   "source": [
    "icc_best_captain()"
   ]
  },
  {
   "cell_type": "code",
   "execution_count": null,
   "id": "58c3160e",
   "metadata": {},
   "outputs": [],
   "source": []
  }
 ],
 "metadata": {
  "kernelspec": {
   "display_name": "Python 3 (ipykernel)",
   "language": "python",
   "name": "python3"
  },
  "language_info": {
   "codemirror_mode": {
    "name": "ipython",
    "version": 3
   },
   "file_extension": ".py",
   "mimetype": "text/x-python",
   "name": "python",
   "nbconvert_exporter": "python",
   "pygments_lexer": "ipython3",
   "version": "3.9.7"
  }
 },
 "nbformat": 4,
 "nbformat_minor": 5
}
